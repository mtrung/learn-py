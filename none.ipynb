{
 "metadata": {
  "language_info": {
   "codemirror_mode": {
    "name": "ipython",
    "version": 3
   },
   "file_extension": ".py",
   "mimetype": "text/x-python",
   "name": "python",
   "nbconvert_exporter": "python",
   "pygments_lexer": "ipython3",
   "version": "3.8.6-final"
  },
  "orig_nbformat": 2,
  "kernelspec": {
   "name": "python3",
   "display_name": "Python 3.8.6 64-bit",
   "metadata": {
    "interpreter": {
     "hash": "aee8b7b246df8f9039afb4144a1f6fd8d2ca17a180786b69acc140d282b71a49"
    }
   }
  }
 },
 "nbformat": 4,
 "nbformat_minor": 2,
 "cells": [
  {
   "cell_type": "code",
   "execution_count": 9,
   "metadata": {},
   "outputs": [
    {
     "output_type": "stream",
     "name": "stdout",
     "text": [
      "\n- s = 'None'. type=<class 'NoneType'>\nnot s\ns is None\n\n- s = ''. type=<class 'str'>\nnot s\ns is not None\n\n- s = 'a'. type=<class 'str'>\ns\ns is not None\n\n- s = '[]'. type=<class 'list'>\nnot s\ns is not None\n"
     ]
    }
   ],
   "source": [
    "def testNone(s):\n",
    "    print(f'\\n- s = \\'{s}\\'. type={type(s)}')\n",
    "    if not s:\n",
    "        print('not s')\n",
    "    if s:\n",
    "        print('s')\n",
    "    if s is not None:\n",
    "        print('s is not None')\n",
    "    if s is None:\n",
    "        print('s is None')\n",
    "\n",
    "\n",
    "testNone(None)\n",
    "testNone('')\n",
    "testNone('a')\n",
    "testNone([])"
   ]
  },
  {
   "cell_type": "code",
   "execution_count": null,
   "metadata": {},
   "outputs": [],
   "source": []
  }
 ]
}