{
 "metadata": {
  "language_info": {
   "codemirror_mode": {
    "name": "ipython",
    "version": 3
   },
   "file_extension": ".py",
   "mimetype": "text/x-python",
   "name": "python",
   "nbconvert_exporter": "python",
   "pygments_lexer": "ipython3",
   "version": "3.8.6-final"
  },
  "orig_nbformat": 2,
  "kernelspec": {
   "name": "python3",
   "display_name": "Python 3.8.6 64-bit",
   "metadata": {
    "interpreter": {
     "hash": "aee8b7b246df8f9039afb4144a1f6fd8d2ca17a180786b69acc140d282b71a49"
    }
   }
  }
 },
 "nbformat": 4,
 "nbformat_minor": 2,
 "cells": [
  {
   "cell_type": "code",
   "execution_count": 12,
   "metadata": {},
   "outputs": [
    {
     "output_type": "stream",
     "name": "stdout",
     "text": [
      "0.3\n0.5\n0.75\nNone\nNone\n"
     ]
    }
   ],
   "source": [
    "def toFloat(s):\n",
    "    try:\n",
    "        return float(s)\n",
    "    except ValueError:\n",
    "        return\n",
    "\n",
    "def str2Float(s) -> float:\n",
    "    # return \n",
    "    # return None if failed\n",
    "    val = toFloat(s)\n",
    "    if val:\n",
    "        return val\n",
    "\n",
    "    splits = s.split('/')\n",
    "    if not splits or len(splits) < 2:\n",
    "        return\n",
    "    num = toFloat(splits[0])\n",
    "    if not num:\n",
    "        return\n",
    "    denom = toFloat(splits[1])\n",
    "    if not denom:\n",
    "        return\n",
    "    return num/denom\n",
    "\n",
    "testList = ['0.3', '1/2', '3/4', 'nothing', 'a/2']\n",
    "for t in testList:\n",
    "    f = convert(t)\n",
    "    print(f)\n"
   ]
  },
  {
   "cell_type": "code",
   "execution_count": null,
   "metadata": {},
   "outputs": [],
   "source": []
  }
 ]
}