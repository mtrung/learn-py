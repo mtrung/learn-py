{
 "metadata": {
  "language_info": {
   "codemirror_mode": {
    "name": "ipython",
    "version": 3
   },
   "file_extension": ".py",
   "mimetype": "text/x-python",
   "name": "python",
   "nbconvert_exporter": "python",
   "pygments_lexer": "ipython3",
   "version": "3.8.6-final"
  },
  "orig_nbformat": 2,
  "kernelspec": {
   "name": "python3",
   "display_name": "Python 3.8.6 64-bit",
   "metadata": {
    "interpreter": {
     "hash": "aee8b7b246df8f9039afb4144a1f6fd8d2ca17a180786b69acc140d282b71a49"
    }
   }
  }
 },
 "nbformat": 4,
 "nbformat_minor": 2,
 "cells": [
  {
   "cell_type": "code",
   "execution_count": 28,
   "metadata": {},
   "outputs": [
    {
     "output_type": "stream",
     "name": "stdout",
     "text": [
      "                                to                               fr   v1   v2  \\\n0 2020-10-27 12:53:03.660000-05:00                              NaT  1.2  4.1   \n1 2020-10-28 08:59:30.503000-05:00 2020-10-28 09:26:37.733000-05:00  2.0  3.0   \n2 2020-10-20 11:14:07.990000-05:00 2020-10-20 11:12:47.889000-05:00  3.0  2.0   \n\n   val diff                date diff  \n0      -2.9                      NaT  \n1      -1.0 -1 days +23:32:52.770000  \n2       1.0   0 days 00:01:20.101000  \n"
     ]
    }
   ],
   "source": [
    "import pandas\n",
    "from datetime import datetime\n",
    "\n",
    "def pdTsConvert(df, col: str, tzStr: str = 'America/Chicago'):\n",
    "    df[col] = pandas.to_datetime(df[col], utc=True)\n",
    "    df[col] = df[col].dt.tz_convert(tzStr)\n",
    "\n",
    "def pandasTest():\n",
    "    df = pandas.DataFrame(columns=['to', 'fr', 'v1', 'v2'])\n",
    "    df.fr = [pandas.NaT,\n",
    "             pandas.Timestamp('2020-10-28 09:26:37.733000-05:00'),\n",
    "             pandas.Timestamp('2020-10-20 11:12:47.889000-05:00')]\n",
    "    df.to = [pandas.Timestamp('2020-10-27 12:53:03.660000-05:00'),\n",
    "             pandas.Timestamp('2020-10-28 08:59:30.503000-05:00'),\n",
    "             pandas.Timestamp('2020-10-20 11:14:07.990000-05:00')]\n",
    "    df.v1 = [1.2, 2, 3]\n",
    "    df.v2 = [4.1, 3, 2]\n",
    "    df['val diff'] = df.v1 - df.v2\n",
    "    df['date diff'] = (df.to - df.fr)  # .astype('timedelta64[h]')\n",
    "    return df\n",
    "df = pandasTest()\n",
    "print(df)\n"
   ]
  },
  {
   "source": [
    "- Notes: although negative timedelta is OK. However, the above timedelta in row 2 -1day +23hrs is not good.\n",
    "- See below abs()"
   ],
   "cell_type": "markdown",
   "metadata": {}
  },
  {
   "cell_type": "code",
   "execution_count": 30,
   "metadata": {},
   "outputs": [
    {
     "output_type": "stream",
     "name": "stdout",
     "text": [
      "0                      NaT\n1   0 days 00:27:07.230000\n2   0 days 00:01:20.101000\nName: date diff2, dtype: timedelta64[ns]\n"
     ]
    }
   ],
   "source": [
    "df['date diff2'] = abs(df.to - df.fr)  # .astype('timedelta64[h]')\n",
    "print(df['date diff2'])"
   ]
  },
  {
   "cell_type": "code",
   "execution_count": null,
   "metadata": {},
   "outputs": [],
   "source": []
  }
 ]
}