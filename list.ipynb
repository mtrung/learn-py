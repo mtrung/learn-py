{
 "metadata": {
  "language_info": {
   "codemirror_mode": {
    "name": "ipython",
    "version": 3
   },
   "file_extension": ".py",
   "mimetype": "text/x-python",
   "name": "python",
   "nbconvert_exporter": "python",
   "pygments_lexer": "ipython3",
   "version": "3.8.6-final"
  },
  "orig_nbformat": 2,
  "kernelspec": {
   "name": "python3",
   "display_name": "Python 3.8.6 64-bit",
   "metadata": {
    "interpreter": {
     "hash": "aee8b7b246df8f9039afb4144a1f6fd8d2ca17a180786b69acc140d282b71a49"
    }
   }
  }
 },
 "nbformat": 4,
 "nbformat_minor": 2,
 "cells": [
  {
   "cell_type": "code",
   "execution_count": 18,
   "metadata": {},
   "outputs": [
    {
     "output_type": "stream",
     "name": "stdout",
     "text": [
      "old ['a', 'b', 'c', 'd', 'e']\nnew ['c', 'd', 'e', 'f', 'g']\n- add f\n- add g\n- remove a\n- remove b\n"
     ]
    }
   ],
   "source": [
    "# char = chr(ord('a'))\n",
    "lambdaFunc = lambda i: chr(i)\n",
    "l1 = [i for i in range(ord('a'), ord('a')+5)]\n",
    "l2 = [i for i in range(ord('c'), ord('c')+5)]\n",
    "\n",
    "def cb(isAdd, item):\n",
    "    if isAdd:\n",
    "        print('- add', item)\n",
    "    else:\n",
    "        print('- remove', item)\n",
    "\n",
    "def syncList(l1, l2, strFunc1, strFunc2, callback):\n",
    "    if strFunc1:\n",
    "        l1 = [strFunc1(i) for i in l1]\n",
    "    if strFunc2:\n",
    "        l2 = [strFunc2(i) for i in l2]\n",
    "    print('old', l1)\n",
    "    print('new', l2)\n",
    "    addSet = set(l2) - set(l1)\n",
    "    removeSet = set(l1) - set(l2)\n",
    "\n",
    "    for i in addSet:\n",
    "        callback(True, i)\n",
    "    \n",
    "    for i in removeSet:\n",
    "        callback(False, i)\n",
    "    # return addList, removeList\n",
    "\n",
    "syncList(l1, l2, lambdaFunc,lambdaFunc, cb)\n",
    "# print('to add', addList)\n",
    "# print('to remove', removeList)"
   ]
  },
  {
   "cell_type": "code",
   "execution_count": 13,
   "metadata": {},
   "outputs": [
    {
     "output_type": "stream",
     "name": "stdout",
     "text": [
      "['f', 'g']\n"
     ]
    }
   ],
   "source": [
    "l4 = [i for i in l2 if i not in l1]\n",
    "print(l4)"
   ]
  },
  {
   "cell_type": "code",
   "execution_count": 16,
   "metadata": {},
   "outputs": [
    {
     "output_type": "stream",
     "name": "stdout",
     "text": [
      "<class 'set'>\nf\ng\n"
     ]
    }
   ],
   "source": [
    "print(type(addList))\n",
    "for i in addList:\n",
    "    print(i)\n"
   ]
  },
  {
   "cell_type": "code",
   "execution_count": null,
   "metadata": {},
   "outputs": [],
   "source": []
  }
 ]
}