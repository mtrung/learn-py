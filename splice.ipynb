{
 "metadata": {
  "language_info": {
   "codemirror_mode": {
    "name": "ipython",
    "version": 3
   },
   "file_extension": ".py",
   "mimetype": "text/x-python",
   "name": "python",
   "nbconvert_exporter": "python",
   "pygments_lexer": "ipython3",
   "version": "3.8.6-final"
  },
  "orig_nbformat": 2,
  "kernelspec": {
   "name": "python3",
   "display_name": "Python 3.8.6 64-bit",
   "metadata": {
    "interpreter": {
     "hash": "aee8b7b246df8f9039afb4144a1f6fd8d2ca17a180786b69acc140d282b71a49"
    }
   }
  }
 },
 "nbformat": 4,
 "nbformat_minor": 2,
 "cells": [
  {
   "cell_type": "code",
   "execution_count": 16,
   "metadata": {},
   "outputs": [
    {
     "output_type": "stream",
     "name": "stdout",
     "text": [
      "TGT         1\n"
     ]
    }
   ],
   "source": [
    "s = '''TGT         16  sell    limit       1382.42  replaced  2020-11-18 11:22:20 CST\n",
    "TGT         46  buy     market               filled    2020-11-18 11:20:02 CST\n",
    "QDEL        11  sell    stop_limit  185.10   replaced  2020-11-05 11:24:00 CST\n",
    "GH          25  sell    stop_limit  107.47   filled    2020-11-12 08:49:08 CST\n",
    "ROKU        12  sell    stop_limit  232.20   filled    2020-11-17 09:12:29 CST\n",
    "APPS        69  sell    limit       314.01   replaced  2020-11-18 08:42:35 CST\n",
    "APPS        69  sell    limit       314.01   replaced  2020-11-18 08:42:35 CST\n",
    "'''\n",
    "\n",
    "i = s.find('6')\n",
    "print(s[:i])"
   ]
  },
  {
   "source": [
    "- Split by half at the nearest newline"
   ],
   "cell_type": "markdown",
   "metadata": {}
  },
  {
   "cell_type": "code",
   "execution_count": 27,
   "metadata": {},
   "outputs": [
    {
     "output_type": "stream",
     "name": "stdout",
     "text": [
      "len 553 , mid 276 , nearest newline 236\nTGT         16  sell    limit       1382.42  replaced  2020-11-18 11:22:20 CST\nTGT         46  buy     market               filled    2020-11-18 11:20:02 CST\nQDEL        11  sell    stop_limit  185.10   replaced  2020-11-05 11:24:00 CST\n-----\nGH          25  sell    stop_limit  107.47   filled    2020-11-12 08:49:08 CST\nROKU        12  sell    stop_limit  232.20   filled    2020-11-17 09:12:29 CST\nAPPS        69  sell    limit       314.01   replaced  2020-11-18 08:42:35 CST\nAPPS        69  sell    limit       314.01   replaced  2020-11-18 08:42:35 CST\n\n"
     ]
    }
   ],
   "source": [
    "l = len(s)\n",
    "end = int(l/2)\n",
    "idx = s.rfind('\\n', end-80, end)\n",
    "\n",
    "print('len', l, ', mid', end, ', nearest newline', idx)\n",
    "\n",
    "print(s[:idx])\n",
    "print('-----')\n",
    "print(s[idx+1:])"
   ]
  },
  {
   "cell_type": "code",
   "execution_count": null,
   "metadata": {},
   "outputs": [],
   "source": []
  }
 ]
}